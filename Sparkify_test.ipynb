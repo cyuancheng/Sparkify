{
    "nbformat_minor": 1, 
    "cells": [
        {
            "execution_count": 1, 
            "cell_type": "code", 
            "metadata": {}, 
            "outputs": [
                {
                    "output_type": "stream", 
                    "name": "stdout", 
                    "text": "Waiting for a Spark session to start...\nSpark Initialization Done! ApplicationId = app-20190722144804-0000\nKERNEL_ID = 290ffe24-c479-433e-9dbd-1fd0d0ed86fc\n"
                }
            ], 
            "source": "# The code was removed by Watson Studio for sharing."
        }, 
        {
            "execution_count": 2, 
            "cell_type": "code", 
            "metadata": {}, 
            "outputs": [], 
            "source": "# import libraries\nimport re\nimport datetime\nimport matplotlib.pyplot as plt\nimport pandas as pd\nimport seaborn as sns\n\nfrom pyspark.sql import SparkSession\nfrom pyspark.sql.functions import avg, col, concat, desc, explode, lit, min, max, split, udf, isnull\nfrom pyspark.sql.types import IntegerType\n\nfrom pyspark.ml import Pipeline\nfrom pyspark.ml.classification import LogisticRegression, RandomForestClassifier, GBTClassifier, DecisionTreeClassifier, NaiveBayes\nfrom pyspark.ml.evaluation import MulticlassClassificationEvaluator\nfrom pyspark.ml.feature import CountVectorizer, IDF, Normalizer, PCA, RegexTokenizer, StandardScaler, StopWordsRemover, StringIndexer, VectorAssembler\nfrom pyspark.ml.regression import LinearRegression\nfrom pyspark.ml.tuning import CrossValidator, ParamGridBuilder"
        }, 
        {
            "execution_count": 3, 
            "cell_type": "code", 
            "metadata": {}, 
            "outputs": [], 
            "source": "spark = SparkSession \\\n    .builder \\\n    .appName(\"Sparkify\") \\\n    .getOrCreate()"
        }, 
        {
            "execution_count": 4, 
            "cell_type": "code", 
            "metadata": {}, 
            "outputs": [
                {
                    "execution_count": 4, 
                    "metadata": {}, 
                    "data": {
                        "text/plain": "DataFrame[artist: string, auth: string, firstName: string, gender: string, itemInSession: bigint, lastName: string, length: double, level: string, location: string, method: string, page: string, registration: bigint, sessionId: bigint, song: string, status: bigint, ts: bigint, userAgent: string, userId: string]"
                    }, 
                    "output_type": "execute_result"
                }
            ], 
            "source": "# Read in full sparkify dataset\n\nfrom pyspark.sql import SparkSession\nspark = SparkSession.builder.getOrCreate()\n# Since JSON data can be semi-structured and contain additional metadata, it is possible that you might face issues with the DataFrame layout.\n# Please read the documentation of 'SparkSession.read()' to learn more about the possibilities to adjust the data loading.\n# PySpark documentation: http://spark.apache.org/docs/2.0.2/api/python/pyspark.sql.html#pyspark.sql.DataFrameReader.json\n\ndf = spark.read.json(cos.url('medium-sparkify-event-data.json', 'sparkify-donotdelete-pr-ma7s7cezdcowaq'))\ndf.persist()\n#df.take(5)\n"
        }, 
        {
            "source": "### Load and Data clean", 
            "cell_type": "markdown", 
            "metadata": {}
        }, 
        {
            "execution_count": 6, 
            "cell_type": "code", 
            "metadata": {}, 
            "outputs": [
                {
                    "execution_count": 6, 
                    "metadata": {}, 
                    "data": {
                        "text/plain": "543705"
                    }, 
                    "output_type": "execute_result"
                }
            ], 
            "source": "df.count()"
        }, 
        {
            "execution_count": 7, 
            "cell_type": "code", 
            "metadata": {}, 
            "outputs": [
                {
                    "execution_count": 7, 
                    "metadata": {}, 
                    "data": {
                        "text/plain": "[Row(artist='Martin Orford', auth='Logged In', firstName='Joseph', gender='M', itemInSession=20, lastName='Morales', length=597.55057, level='free', location='Corpus Christi, TX', method='PUT', page='NextSong', registration=1532063507000, sessionId=292, song='Grand Designs', status=200, ts=1538352011000, userAgent='\"Mozilla/5.0 (Macintosh; Intel Mac OS X 10_9_4) AppleWebKit/537.36 (KHTML, like Gecko) Chrome/36.0.1985.125 Safari/537.36\"', userId='293'),\n Row(artist=\"John Brown's Body\", auth='Logged In', firstName='Sawyer', gender='M', itemInSession=74, lastName='Larson', length=380.21179, level='free', location='Houston-The Woodlands-Sugar Land, TX', method='PUT', page='NextSong', registration=1538069638000, sessionId=97, song='Bulls', status=200, ts=1538352025000, userAgent='\"Mozilla/5.0 (Macintosh; Intel Mac OS X 10_9_4) AppleWebKit/537.36 (KHTML, like Gecko) Chrome/36.0.1985.143 Safari/537.36\"', userId='98')]"
                    }, 
                    "output_type": "execute_result"
                }
            ], 
            "source": "df.head(2)"
        }, 
        {
            "execution_count": 9, 
            "cell_type": "code", 
            "metadata": {}, 
            "outputs": [
                {
                    "output_type": "stream", 
                    "name": "stdout", 
                    "text": "root\n |-- artist: string (nullable = true)\n |-- auth: string (nullable = true)\n |-- firstName: string (nullable = true)\n |-- gender: string (nullable = true)\n |-- itemInSession: long (nullable = true)\n |-- lastName: string (nullable = true)\n |-- length: double (nullable = true)\n |-- level: string (nullable = true)\n |-- location: string (nullable = true)\n |-- method: string (nullable = true)\n |-- page: string (nullable = true)\n |-- registration: long (nullable = true)\n |-- sessionId: long (nullable = true)\n |-- song: string (nullable = true)\n |-- status: long (nullable = true)\n |-- ts: long (nullable = true)\n |-- userAgent: string (nullable = true)\n |-- userId: string (nullable = true)\n\n"
                }
            ], 
            "source": "df.printSchema()"
        }, 
        {
            "source": "#### Schema information\n\n- artist: Artist name (ex. 'Martin Orford')\n- auth: User authentication status (ex. 'Logged In')\n- firstName: User first name (ex. 'Joseph')\n- gender: Gender (ex. F or M)\n- itemInSession: Item count in a session (ex. 20)\n- lastName: User last name (ex. 'Morales')\n- length: Length of song (ex. 597.55057)\n- level: User plan (ex. 'free')\n- location: User's location (ex. 'Corpus Christi, TX')\n- method: HTTP method (ex. PUT)\n- page: Page name (ex. 'NextSong')\n- registration: Registration timestamp (unix timestamp) (ex. 1532063507000)\n- sessionId: Session ID (ex. 292)\n- song: Song (ex. 'Grand Designs')\n- status: HTTP status (ex. 200)\n- ts: Event timestamp(unix timestamp) (ex. 11538352011000)\n- userAgent: User's browswer agent (ex. '\"Mozilla/5.0 (Macintosh; Intel Mac OS X 10_9_4) AppleWebKit/537.36 (KHTML, like Gecko) Chrome/36.0.1985.143 Safari/537.36\"')\n- userId: User ID (ex. 293)", 
            "cell_type": "markdown", 
            "metadata": {}
        }, 
        {
            "execution_count": 11, 
            "cell_type": "code", 
            "metadata": {}, 
            "outputs": [
                {
                    "output_type": "stream", 
                    "name": "stdout", 
                    "text": "+-------+------------------+\n|summary|            Length|\n+-------+------------------+\n|  count|            432877|\n|   mean|248.66459278007738|\n| stddev| 98.41266955051972|\n|    min|           0.78322|\n|    max|        3024.66567|\n+-------+------------------+\n\n"
                }
            ], 
            "source": "df.describe('Length').show()"
        }, 
        {
            "execution_count": 12, 
            "cell_type": "code", 
            "metadata": {}, 
            "outputs": [
                {
                    "output_type": "stream", 
                    "name": "stdout", 
                    "text": "+--------------------+\n|                page|\n+--------------------+\n|               About|\n|          Add Friend|\n|     Add to Playlist|\n|              Cancel|\n|Cancellation Conf...|\n|           Downgrade|\n|               Error|\n|                Help|\n|                Home|\n|               Login|\n|              Logout|\n|            NextSong|\n|            Register|\n|         Roll Advert|\n|       Save Settings|\n|            Settings|\n|    Submit Downgrade|\n| Submit Registration|\n|      Submit Upgrade|\n|         Thumbs Down|\n+--------------------+\nonly showing top 20 rows\n\n"
                }
            ], 
            "source": "# show page event\ndf.select(\"page\").dropDuplicates().sort(\"page\").show()"
        }, 
        {
            "source": "#### Check missing data", 
            "cell_type": "markdown", 
            "metadata": {}
        }, 
        {
            "execution_count": 30, 
            "cell_type": "code", 
            "metadata": {}, 
            "outputs": [
                {
                    "output_type": "stream", 
                    "name": "stdout", 
                    "text": "[percentage of missing data]\n\nartist: 20.383847858673363\nfirstName: 2.8875952952428245\ngender: 2.8875952952428245\nlastName: 2.8875952952428245\nlength: 20.383847858673363\nlocation: 2.8875952952428245\nregistration: 2.8875952952428245\nsong: 20.383847858673363\nuserAgent: 2.8875952952428245\n"
                }
            ], 
            "source": "#def count_missing(df, col):\n#    \"\"\"\n#    A helper function which count how many missing values in a colum of the dataset.\n    \n#    This function is useful because the data can be either three cases below:\n    \n#    1. NaN\n#    2. Null\n#    3. \"\" (empty string)\n#    \"\"\"\n#    return df.filter((isnan(df[col])) | (df[col].isNull()) | (df[col] == \"\")).count()\n\nprint(\"[percentage of missing data]\\n\")\nfor col in df.columns:\n    #print(col)\n    #missing_count = df.filter((df[col].isNa()) | (df[col].isNull()) | (df[col] == \"\")).count() #count_missing(df, col)\n    missing_count = df.filter(df[col].isNull()).count()*100 #count_missing(df, col)\n    \n    if missing_count > 0:\n        print(\"{}: {}\".format(col, missing_count/df.count()))"
        }, 
        {
            "execution_count": 53, 
            "cell_type": "code", 
            "metadata": {}, 
            "outputs": [], 
            "source": "df_clean = df.dropna(how = \"any\", subset = [\"userId\", \"sessionId\"])\ndf_clean = df_clean.filter(df[\"userId\"] != \"\") # `userId` should not be empty string"
        }, 
        {
            "execution_count": 43, 
            "cell_type": "code", 
            "metadata": {}, 
            "outputs": [
                {
                    "output_type": "stream", 
                    "name": "stdout", 
                    "text": "df:543705\ndf_clean: 528005\n15700 rows are removed\n"
                }
            ], 
            "source": "print(\"df:{}\".format(df.count()))\nprint(\"df_clean: {}\".format(df_clean.count())) # no missing values\nprint(\"{} rows are removed\".format(df.count()-df_clean.count()))\n"
        }, 
        {
            "execution_count": 44, 
            "cell_type": "code", 
            "metadata": {}, 
            "outputs": [], 
            "source": "num_cols = []\ncat_cols = []\n\nfor s in df.schema:\n    data_type = str(s.dataType)\n    if data_type == \"StringType\":\n        cat_cols.append(s.name)\n    \n    if data_type == \"LongType\" or data_type == \"DoubleType\":\n        num_cols.append(s.name)"
        }, 
        {
            "execution_count": 34, 
            "cell_type": "code", 
            "metadata": {}, 
            "outputs": [
                {
                    "execution_count": 34, 
                    "metadata": {}, 
                    "data": {
                        "text/plain": "['itemInSession', 'length', 'registration', 'sessionId', 'status', 'ts']"
                    }, 
                    "output_type": "execute_result"
                }
            ], 
            "source": "num_cols"
        }, 
        {
            "execution_count": 35, 
            "cell_type": "code", 
            "metadata": {}, 
            "outputs": [
                {
                    "execution_count": 35, 
                    "metadata": {}, 
                    "data": {
                        "text/plain": "['artist',\n 'auth',\n 'firstName',\n 'gender',\n 'lastName',\n 'level',\n 'location',\n 'method',\n 'page',\n 'song',\n 'userAgent',\n 'userId']"
                    }, 
                    "output_type": "execute_result"
                }
            ], 
            "source": "cat_cols"
        }, 
        {
            "execution_count": 45, 
            "cell_type": "code", 
            "metadata": {}, 
            "outputs": [
                {
                    "output_type": "stream", 
                    "name": "stdout", 
                    "text": "+-------+------------------+------------------+--------------------+------------------+------------------+--------------------+\n|summary|     itemInSession|            length|        registration|         sessionId|            status|                  ts|\n+-------+------------------+------------------+--------------------+------------------+------------------+--------------------+\n|  count|            528005|            432877|              528005|            528005|            528005|              528005|\n|   mean|107.77899451709737|248.66459278007738|1.535523414862437E12|2042.9801820058522|209.09106163767387|1.540966927748435...|\n| stddev| 116.8647866296988| 98.41266955051972|3.0787254929957166E9|1433.9981489410682|30.148777830591797|1.4812330940351417E9|\n|    min|                 0|           0.78322|       1509854193000|                 1|               200|       1538352011000|\n|    max|              1005|        3024.66567|       1543073874000|              4808|               404|       1543622466000|\n+-------+------------------+------------------+--------------------+------------------+------------------+--------------------+\n\n"
                }
            ], 
            "source": "df_clean.describe(num_cols).show()"
        }, 
        {
            "execution_count": 46, 
            "cell_type": "code", 
            "metadata": {}, 
            "outputs": [
                {
                    "output_type": "stream", 
                    "name": "stdout", 
                    "text": "+---------+\n|     auth|\n+---------+\n|Cancelled|\n|Logged In|\n+---------+\n\n"
                }
            ], 
            "source": "df_clean.select(\"auth\").dropDuplicates().show()"
        }, 
        {
            "execution_count": 47, 
            "cell_type": "code", 
            "metadata": {}, 
            "outputs": [
                {
                    "output_type": "stream", 
                    "name": "stdout", 
                    "text": "+-----+\n|level|\n+-----+\n| free|\n| paid|\n+-----+\n\n"
                }
            ], 
            "source": "df_clean.select(\"level\").dropDuplicates().show()"
        }, 
        {
            "execution_count": 48, 
            "cell_type": "code", 
            "metadata": {}, 
            "outputs": [
                {
                    "output_type": "stream", 
                    "name": "stdout", 
                    "text": "+------+\n|method|\n+------+\n|   PUT|\n|   GET|\n+------+\n\n"
                }
            ], 
            "source": "df_clean.select(\"method\").dropDuplicates().show()"
        }, 
        {
            "execution_count": 49, 
            "cell_type": "code", 
            "metadata": {}, 
            "outputs": [
                {
                    "output_type": "stream", 
                    "name": "stdout", 
                    "text": "+--------------------+\n|                page|\n+--------------------+\n|              Cancel|\n|    Submit Downgrade|\n|         Thumbs Down|\n|                Home|\n|           Downgrade|\n|         Roll Advert|\n|              Logout|\n|       Save Settings|\n|Cancellation Conf...|\n|               About|\n|            Settings|\n|     Add to Playlist|\n|          Add Friend|\n|            NextSong|\n|           Thumbs Up|\n|                Help|\n|             Upgrade|\n|               Error|\n|      Submit Upgrade|\n+--------------------+\n\n"
                }
            ], 
            "source": "df_clean.select(\"page\").dropDuplicates().show()"
        }, 
        {
            "source": "#### Define Churn\nThe user whose page has \"Cancellation Confirmation\" is defined as a churned user in this analysis.", 
            "cell_type": "markdown", 
            "metadata": {}
        }, 
        {
            "execution_count": 56, 
            "cell_type": "code", 
            "metadata": {}, 
            "outputs": [
                {
                    "output_type": "stream", 
                    "name": "stdout", 
                    "text": "+------+---------+---------+------+-------------+--------+------+-----+--------------------+------+--------------------+-------------+---------+----+------+-------------+--------------------+------+\n|artist|     auth|firstName|gender|itemInSession|lastName|length|level|            location|method|                page| registration|sessionId|song|status|           ts|           userAgent|userId|\n+------+---------+---------+------+-------------+--------+------+-----+--------------------+------+--------------------+-------------+---------+----+------+-------------+--------------------+------+\n|  null|Cancelled|   Olivia|     F|           40|    Carr|  null| free|      Fort Wayne, IN|   GET|Cancellation Conf...|1536758439000|      490|null|   200|1538400616000|Mozilla/5.0 (Wind...|   208|\n|  null|Cancelled|  Lillian|     F|          234| Cameron|  null| paid|        Columbus, OH|   GET|Cancellation Conf...|1533472700000|      471|null|   200|1538482793000|Mozilla/5.0 (Wind...|   231|\n|  null|Cancelled|     Alex|     M|          109|   Myers|  null| paid|Grand Rapids-Wyom...|   GET|Cancellation Conf...|1529995579000|      682|null|   200|1538539871000|\"Mozilla/5.0 (Win...|   236|\n|  null|Cancelled|   Rafael|     M|           66|Crawford|  null| free|   Bowling Green, KY|   GET|Cancellation Conf...|1533887620000|      628|null|   200|1538592529000|\"Mozilla/5.0 (Mac...|   156|\n|  null|Cancelled|     Brad|     M|          227| Stewart|  null| paid|         Roanoke, VA|   GET|Cancellation Conf...|1535619094000|      395|null|   200|1538770077000|\"Mozilla/5.0 (Win...|   271|\n+------+---------+---------+------+-------------+--------+------+-----+--------------------+------+--------------------+-------------+---------+----+------+-------------+--------------------+------+\nonly showing top 5 rows\n\n99\n"
                }
            ], 
            "source": "df_clean.filter(\"page = 'Cancellation Confirmation'\").show(5)\nprint(df_clean.filter(\"page = 'Cancellation Confirmation'\").count())"
        }, 
        {
            "source": "#### calculate chun rate", 
            "cell_type": "markdown", 
            "metadata": {}
        }, 
        {
            "execution_count": 62, 
            "cell_type": "code", 
            "metadata": {}, 
            "outputs": [
                {
                    "output_type": "stream", 
                    "name": "stdout", 
                    "text": "churned rate: 22.10%\n"
                }
            ], 
            "source": "churned_event = udf(lambda x: 1 if x == \"Cancellation Confirmation\" else 0, IntegerType())\ndf_churned = df_clean.withColumn(\"churned\", churned_event(\"page\")) \n\nchurned_rate = df_churned.groupby(\"userId\").agg({\"churned\": \"sum\"}).select(avg(\"sum(churned)\")).collect()[0][\"avg(sum(churned))\"]\nprint(\"churned rate: {:.2f}%\".format(churned_rate * 100))"
        }, 
        {
            "execution_count": 64, 
            "cell_type": "code", 
            "metadata": {}, 
            "outputs": [
                {
                    "output_type": "stream", 
                    "name": "stdout", 
                    "text": "+------+------+-----+--------+------+-------------+-------+\n|userId|gender|level|    page|status|           ts|churned|\n+------+------+-----+--------+------+-------------+-------+\n|   293|     M| free|NextSong|   200|1538352011000|      0|\n|    98|     M| free|NextSong|   200|1538352025000|      0|\n|   179|     M| paid|NextSong|   200|1538352118000|      0|\n|   179|     M| paid|  Logout|   307|1538352119000|      0|\n|   246|     F| paid|NextSong|   200|1538352124000|      0|\n|   163|     F| paid|NextSong|   200|1538352125000|      0|\n|   179|     M| paid|    Home|   200|1538352176000|      0|\n|   175|     F| free|NextSong|   200|1538352215000|      0|\n|   100|     M| free|    Home|   200|1538352241000|      0|\n|   100|     M| free|NextSong|   200|1538352259000|      0|\n+------+------+-----+--------+------+-------------+-------+\nonly showing top 10 rows\n\n"
                }
            ], 
            "source": "df_churned.select([\"userId\", \"gender\", \"level\", \"page\", \"status\", \"ts\", \"churned\"]).show(10)"
        }, 
        {
            "execution_count": null, 
            "cell_type": "code", 
            "metadata": {}, 
            "outputs": [], 
            "source": ""
        }
    ], 
    "metadata": {
        "kernelspec": {
            "display_name": "Python 3.6 with Spark", 
            "name": "python36", 
            "language": "python3"
        }, 
        "language_info": {
            "mimetype": "text/x-python", 
            "nbconvert_exporter": "python", 
            "version": "3.6.8", 
            "name": "python", 
            "file_extension": ".py", 
            "pygments_lexer": "ipython3", 
            "codemirror_mode": {
                "version": 3, 
                "name": "ipython"
            }
        }
    }, 
    "nbformat": 4
}