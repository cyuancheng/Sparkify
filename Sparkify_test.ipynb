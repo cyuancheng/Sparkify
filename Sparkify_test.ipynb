{
    "nbformat_minor": 1, 
    "cells": [
        {
            "source": "# Sparkify Project Workspace\n\nIn this notebook, a model was built to predict the chrn for Sparkify, an imaginary music streaming application. The log files is avaiable and has been cleaned and feature engineering in order to be able to predict churn. The Spark was used to process the data and build the model. This project is done on IBM Watson cloud workspace. \n\nWe performed EDA to establish features, and train several machine learning classification models. We used F1 score to measure of model performance. The model we built and selected has a F1 score of 0.7. \n\nWe first load the necessary libraries.", 
            "cell_type": "markdown", 
            "metadata": {}
        }, 
        {
            "execution_count": 1, 
            "cell_type": "code", 
            "metadata": {}, 
            "outputs": [
                {
                    "output_type": "stream", 
                    "name": "stdout", 
                    "text": "Waiting for a Spark session to start...\nSpark Initialization Done! ApplicationId = app-20190803060457-0000\nKERNEL_ID = b0ca2c47-76c5-49f9-9f54-b79e7bf90598\n"
                }
            ], 
            "source": "# The code was removed by Watson Studio for sharing."
        }, 
        {
            "execution_count": 66, 
            "cell_type": "code", 
            "metadata": {}, 
            "outputs": [], 
            "source": "# import libraries\nimport re\nimport datetime\nimport matplotlib.pyplot as plt\nimport pandas as pd\nimport seaborn as sns\nimport numpy as np\n\n# import pyspark related libraries\nfrom pyspark.sql import SparkSession\nfrom pyspark.sql.functions import avg, col, concat, desc, explode, lit, min, max, split, udf\nfrom pyspark.sql.functions import sum as Fsum\nfrom pyspark.sql.types import IntegerType\nfrom pyspark.sql import Window\n\nfrom pyspark.ml import Pipeline\nfrom pyspark.ml.classification import LogisticRegression, RandomForestClassifier, GBTClassifier, LinearSVC, DecisionTreeClassifier, NaiveBayes\nfrom pyspark.ml.evaluation import MulticlassClassificationEvaluator\nfrom pyspark.ml.feature import CountVectorizer, IDF, Normalizer, PCA, RegexTokenizer, StandardScaler, StopWordsRemover, StringIndexer, VectorAssembler\nfrom pyspark.ml.regression import LinearRegression\nfrom pyspark.ml.evaluation import BinaryClassificationEvaluator\nfrom pyspark.ml.tuning import CrossValidator, ParamGridBuilder\nimport datetime as dt\nimport pyarrow as pa"
        }, 
        {
            "execution_count": 65, 
            "cell_type": "code", 
            "metadata": {}, 
            "outputs": [
                {
                    "output_type": "stream", 
                    "name": "stdout", 
                    "text": "Collecting pyarrow\n\u001b[?25l  Downloading https://files.pythonhosted.org/packages/6f/df/33d8d6b682750d16baa9f45db825f33e0e0feb479fac1da9758f7ac8fd4b/pyarrow-0.14.1-cp36-cp36m-manylinux2010_x86_64.whl (58.1MB)\n\u001b[K    100% |################################| 58.1MB 307kB/s eta 0:00:01\n\u001b[?25hCollecting numpy>=1.14 (from pyarrow)\n\u001b[?25l  Downloading https://files.pythonhosted.org/packages/19/b9/bda9781f0a74b90ebd2e046fde1196182900bd4a8e1ea503d3ffebc50e7c/numpy-1.17.0-cp36-cp36m-manylinux1_x86_64.whl (20.4MB)\n\u001b[K    100% |################################| 20.4MB 856kB/s eta 0:00:01 0% |                                | 92kB 36.8MB/s eta 0:00:01\n\u001b[?25hCollecting six>=1.0.0 (from pyarrow)\n  Downloading https://files.pythonhosted.org/packages/73/fb/00a976f728d0d1fecfe898238ce23f502a721c0ac0ecfedb80e0d88c64e9/six-1.12.0-py2.py3-none-any.whl\n\u001b[31mtensorflow 1.13.1 requires tensorboard<1.14.0,>=1.13.0, which is not installed.\u001b[0m\nInstalling collected packages: numpy, six, pyarrow\nSuccessfully installed numpy-1.17.0 pyarrow-0.14.1 six-1.12.0\n"
                }
            ], 
            "source": "!pip install pyarrow"
        }, 
        {
            "execution_count": 3, 
            "cell_type": "code", 
            "metadata": {}, 
            "outputs": [], 
            "source": "# create a Spark session\nspark = SparkSession \\\n    .builder \\\n    .appName(\"Sparkify\") \\\n    .getOrCreate()"
        }, 
        {
            "source": "## Load and Clean Dataset\nIn this workspace, the mini-dataset file is `medium-sparkify-event-data.json`. Load and clean the dataset, checking for any invalid or missing data. ", 
            "cell_type": "markdown", 
            "metadata": {}
        }, 
        {
            "execution_count": 4, 
            "cell_type": "code", 
            "metadata": {}, 
            "outputs": [
                {
                    "execution_count": 4, 
                    "metadata": {}, 
                    "data": {
                        "text/plain": "DataFrame[artist: string, auth: string, firstName: string, gender: string, itemInSession: bigint, lastName: string, length: double, level: string, location: string, method: string, page: string, registration: bigint, sessionId: bigint, song: string, status: bigint, ts: bigint, userAgent: string, userId: string]"
                    }, 
                    "output_type": "execute_result"
                }
            ], 
            "source": "# Read in full sparkify dataset\n\nfrom pyspark.sql import SparkSession\nspark = SparkSession.builder.getOrCreate()\n# Since JSON data can be semi-structured and contain additional metadata, it is possible that you might face issues with the DataFrame layout.\n# Please read the documentation of 'SparkSession.read()' to learn more about the possibilities to adjust the data loading.\n# PySpark documentation: http://spark.apache.org/docs/2.0.2/api/python/pyspark.sql.html#pyspark.sql.DataFrameReader.json\n\ndf = spark.read.json(cos.url('medium-sparkify-event-data.json', 'sparkify-donotdelete-pr-ma7s7cezdcowaq'))\ndf.persist()\n#df.take(2)"
        }, 
        {
            "execution_count": 5, 
            "cell_type": "code", 
            "metadata": {}, 
            "outputs": [
                {
                    "output_type": "stream", 
                    "name": "stdout", 
                    "text": "+-----------------+---------+---------+------+-------------+--------+---------+-----+--------------------+------+--------+-------------+---------+------------------+------+-------------+--------------------+------+\n|           artist|     auth|firstName|gender|itemInSession|lastName|   length|level|            location|method|    page| registration|sessionId|              song|status|           ts|           userAgent|userId|\n+-----------------+---------+---------+------+-------------+--------+---------+-----+--------------------+------+--------+-------------+---------+------------------+------+-------------+--------------------+------+\n|    Martin Orford|Logged In|   Joseph|     M|           20| Morales|597.55057| free|  Corpus Christi, TX|   PUT|NextSong|1532063507000|      292|     Grand Designs|   200|1538352011000|\"Mozilla/5.0 (Mac...|   293|\n|John Brown's Body|Logged In|   Sawyer|     M|           74|  Larson|380.21179| free|Houston-The Woodl...|   PUT|NextSong|1538069638000|       97|             Bulls|   200|1538352025000|\"Mozilla/5.0 (Mac...|    98|\n|          Afroman|Logged In| Maverick|     M|          184|Santiago|202.37016| paid|Orlando-Kissimmee...|   PUT|NextSong|1535953455000|      178|Because I Got High|   200|1538352118000|\"Mozilla/5.0 (Mac...|   179|\n+-----------------+---------+---------+------+-------------+--------+---------+-----+--------------------+------+--------+-------------+---------+------------------+------+-------------+--------------------+------+\nonly showing top 3 rows\n\n"
                }
            ], 
            "source": "df.show(3)"
        }, 
        {
            "execution_count": 6, 
            "cell_type": "code", 
            "metadata": {}, 
            "outputs": [
                {
                    "output_type": "stream", 
                    "name": "stdout", 
                    "text": "root\n |-- artist: string (nullable = true)\n |-- auth: string (nullable = true)\n |-- firstName: string (nullable = true)\n |-- gender: string (nullable = true)\n |-- itemInSession: long (nullable = true)\n |-- lastName: string (nullable = true)\n |-- length: double (nullable = true)\n |-- level: string (nullable = true)\n |-- location: string (nullable = true)\n |-- method: string (nullable = true)\n |-- page: string (nullable = true)\n |-- registration: long (nullable = true)\n |-- sessionId: long (nullable = true)\n |-- song: string (nullable = true)\n |-- status: long (nullable = true)\n |-- ts: long (nullable = true)\n |-- userAgent: string (nullable = true)\n |-- userId: string (nullable = true)\n\n"
                }
            ], 
            "source": "# Print schema \ndf.printSchema()"
        }, 
        {
            "source": "#### Schema information\n\n- artist: Artist name (ex. 'Martin Orford')\n- auth: User authentication status (ex. 'Logged In')\n- firstName: User first name (ex. 'Joseph')\n- gender: Gender (ex. F or M)\n- itemInSession: Item count in a session (ex. 20)\n- lastName: User last name (ex. 'Morales')\n- length: Length of song (ex. 597.55057)\n- level: User plan (ex. 'free')\n- location: User's location (ex. 'Corpus Christi, TX')\n- method: HTTP method (ex. PUT)\n- page: Page name (ex. 'NextSong')\n- registration: Registration timestamp (unix timestamp) (ex. 1532063507000)\n- sessionId: Session ID (ex. 292)\n- song: Song (ex. 'Grand Designs')\n- status: HTTP status (ex. 200)\n- ts: Event timestamp(unix timestamp) (ex. 11538352011000)\n- userAgent: User's browswer agent (ex. '\"Mozilla/5.0 (Macintosh; Intel Mac OS X 10_9_4) AppleWebKit/537.36 (KHTML, like Gecko) Chrome/36.0.1985.143 Safari/537.36\"')\n- userId: User ID (ex. 293)", 
            "cell_type": "markdown", 
            "metadata": {}
        }, 
        {
            "source": "#### Deal with missing data", 
            "cell_type": "markdown", 
            "metadata": {}
        }, 
        {
            "execution_count": 7, 
            "cell_type": "code", 
            "metadata": {}, 
            "outputs": [
                {
                    "output_type": "stream", 
                    "name": "stdout", 
                    "text": "Percentage of missing data\n\nartist: 20.38 %\nfirstName: 2.89 %\ngender: 2.89 %\nlastName: 2.89 %\nlength: 20.38 %\nlocation: 2.89 %\nregistration: 2.89 %\nsong: 20.38 %\nuserAgent: 2.89 %\nuserId: 2.89 %\n"
                }
            ], 
            "source": "# check missing data\nprint(\"Percentage of missing data\\n\")\n\nfor col in df.columns:\n\n    missing_count = df.filter((df[col].isNull()) | (df[col] == \"\")).count()*100 \n    \n    if missing_count > 0:\n        print(\"{}: {:.2f} %\".format(col, missing_count/df.count()))"
        }, 
        {
            "execution_count": 8, 
            "cell_type": "code", 
            "metadata": {}, 
            "outputs": [
                {
                    "output_type": "stream", 
                    "name": "stdout", 
                    "text": "After clean:\n\nMissing data in userId: 0\nMissing data in sessionId: 0\n"
                }
            ], 
            "source": "# # clean missing value in userId and sessionId\ndf_clean = df.dropna(how = \"any\", subset = [\"userId\", \"sessionId\"])\ndf_clean = df_clean.filter((df[\"userId\"].isNull()) | (df[\"userId\"] != \"\")) \n\nprint('After clean:\\n')\nprint('Missing data in userId:',df_clean.filter(df_clean['userId'] == '').count())\nprint('Missing data in sessionId:',df_clean.filter(df_clean['sessionId'] == '').count())"
        }, 
        {
            "source": "#### check data type", 
            "cell_type": "markdown", 
            "metadata": {}
        }, 
        {
            "execution_count": 9, 
            "cell_type": "code", 
            "metadata": {}, 
            "outputs": [], 
            "source": "num_cols = []\ncat_cols = []\n\nfor s in df_clean.schema:\n    data_type = str(s.dataType)\n    if data_type == \"StringType\":\n        cat_cols.append(s.name)\n    \n    if data_type == \"LongType\" or data_type == \"DoubleType\":\n        num_cols.append(s.name)"
        }, 
        {
            "execution_count": 10, 
            "cell_type": "code", 
            "metadata": {}, 
            "outputs": [
                {
                    "output_type": "stream", 
                    "name": "stdout", 
                    "text": "numerical columns: ['itemInSession', 'length', 'registration', 'sessionId', 'status', 'ts']\ncatagorical columns: ['artist', 'auth', 'firstName', 'gender', 'lastName', 'level', 'location', 'method', 'page', 'song', 'userAgent', 'userId']\n"
                }
            ], 
            "source": "print('numerical columns:',num_cols)\nprint('catagorical columns:',cat_cols)"
        }, 
        {
            "source": "### Exploratory Data Analysis\nEDA is performed by loading a small subset of the data and doing basic manipulations within Spark. \n\n", 
            "cell_type": "markdown", 
            "metadata": {}
        }, 
        {
            "source": "#### Preliminary analysis", 
            "cell_type": "markdown", 
            "metadata": {}
        }, 
        {
            "execution_count": 11, 
            "cell_type": "code", 
            "metadata": {}, 
            "outputs": [
                {
                    "output_type": "stream", 
                    "name": "stdout", 
                    "text": "+--------------------+\n|                page|\n+--------------------+\n|              Cancel|\n|    Submit Downgrade|\n|         Thumbs Down|\n|                Home|\n|           Downgrade|\n|         Roll Advert|\n|              Logout|\n|       Save Settings|\n|Cancellation Conf...|\n|               About|\n|            Settings|\n|     Add to Playlist|\n|          Add Friend|\n|            NextSong|\n|           Thumbs Up|\n|                Help|\n|             Upgrade|\n|               Error|\n|      Submit Upgrade|\n+--------------------+\n\n"
                }
            ], 
            "source": "df_clean.select(\"page\").dropDuplicates().show()"
        }, 
        {
            "execution_count": 12, 
            "cell_type": "code", 
            "metadata": {}, 
            "outputs": [
                {
                    "output_type": "stream", 
                    "name": "stdout", 
                    "text": "+------+\n|userId|\n+------+\n|   296|\n|100010|\n|200002|\n|   124|\n|    51|\n|200037|\n|    54|\n|   234|\n|100014|\n|   154|\n+------+\nonly showing top 10 rows\n\n"
                }
            ], 
            "source": "df_clean.filter(df.page==\"Cancellation Confirmation\").select(\"userId\").dropDuplicates().show(10)"
        }, 
        {
            "source": "#### Convert timestamp to clean time format", 
            "cell_type": "markdown", 
            "metadata": {}
        }, 
        {
            "execution_count": 13, 
            "cell_type": "code", 
            "metadata": {}, 
            "outputs": [], 
            "source": "# convert timestamp to clean time format\n# add a time column to df\nconvert_ts = udf(lambda x: datetime.datetime.fromtimestamp(x / 1000.0).strftime(\"%Y-%m-%d %H:%M:%S\"))\ndf_clean = df_clean.withColumn('event_time', convert_ts('ts'))\ndf_clean = df_clean.withColumn('registration_time', convert_ts('registration'))"
        }, 
        {
            "execution_count": 14, 
            "cell_type": "code", 
            "metadata": {}, 
            "outputs": [
                {
                    "output_type": "stream", 
                    "name": "stdout", 
                    "text": "+------+--------+-------------------+-----+--------------------+---------+\n|userId|    page|         event_time|level|                song|sessionId|\n+------+--------+-------------------+-----+--------------------+---------+\n|    18|    Home|2018-10-01 04:53:06| paid|                null|      476|\n|    18|NextSong|2018-10-01 04:54:36| paid|I'm The One Who U...|      476|\n|    18|NextSong|2018-10-01 04:59:26| paid|Sound Of Madness ...|      476|\n|    18|    Home|2018-10-01 05:01:09| paid|                null|      476|\n|    18|NextSong|2018-10-01 05:03:19| paid|          Fuck Kitty|      476|\n|    18|NextSong|2018-10-01 05:05:33| paid|Ghost Of The Navi...|      476|\n|    18|NextSong|2018-10-01 05:12:22| paid|         On The Rise|      476|\n|    18|NextSong|2018-10-01 05:16:14| paid|Was soll ich ihr ...|      476|\n|    18|NextSong|2018-10-01 05:18:58| paid|    Ain't Misbehavin|      476|\n|    18|NextSong|2018-10-01 05:21:00| paid|Face Down (Album ...|      476|\n+------+--------+-------------------+-----+--------------------+---------+\nonly showing top 10 rows\n\n"
                }
            ], 
            "source": "df_clean.select([\"userId\", \"page\", \"event_time\", \"level\", \"song\", \"sessionId\"]).where(df.userId == \"18\").sort(\"event_time\").show(10)"
        }, 
        {
            "source": "#### Define Churn\n\nCreate a column `Churn` to use as the label for the model. We used the `Cancellation Confirmation` events to define the churn, which happen for both paid and free users. We also looked into the `Downgrade` events as defined by `Submit Downgrade`.", 
            "cell_type": "markdown", 
            "metadata": {}
        }, 
        {
            "execution_count": 15, 
            "cell_type": "code", 
            "metadata": {}, 
            "outputs": [], 
            "source": "# create churn label\nchurn_event = udf(lambda x: 1 if x == 'Cancellation Confirmation' else 0, IntegerType())\ndf_clean = df_clean.withColumn('churn_event', churn_event('page'))\n\n# label user who churned\nwindowval = Window.partitionBy('userId')\ndf_clean = df_clean.withColumn('churn', max('churn_event').over(windowval))\n\n# create downgrade label\ndowngrade_event = udf(lambda x: 1 if x == \"Submit Downgrade\" else 0, IntegerType())\ndf_clean = df_clean.withColumn(\"downgrade_event\", downgrade_event(\"page\"))\n\n# label user who've ever downgraded\nwindowval = Window.partitionBy('userId')\ndf_clean = df_clean.withColumn('downgrade', max('downgrade_event').over(windowval))"
        }, 
        {
            "execution_count": 16, 
            "cell_type": "code", 
            "metadata": {}, 
            "outputs": [
                {
                    "output_type": "stream", 
                    "name": "stdout", 
                    "text": "+------+------+-----+-----+---------+\n|userId|gender|level|churn|downgrade|\n+------+------+-----+-----+---------+\n|100010|     F| free|    1|        0|\n|200002|     M| free|    1|        0|\n|200002|     M| paid|    1|        0|\n|   296|     F| free|    1|        0|\n|   296|     F| paid|    1|        0|\n|   125|     M| free|    0|        0|\n|   124|     F| paid|    1|        0|\n|    51|     M| paid|    1|        0|\n|     7|     M| free|    0|        0|\n|200037|     M| free|    1|        0|\n+------+------+-----+-----+---------+\nonly showing top 10 rows\n\n"
                }
            ], 
            "source": "df_clean.select([\"userId\", \"gender\", \"level\", \"churn\",'downgrade']).dropDuplicates().show(10)"
        }, 
        {
            "source": "#### Explore Data\nNext, we perform exploratory data analysis to observe the behavior for users who stayed vs users who churned. We start by exploring aggregates on these two groups of users, observing how much of a specific action they experienced per a certain time unit or number of songs played.", 
            "cell_type": "markdown", 
            "metadata": {}
        }, 
        {
            "source": "**1) Gender**", 
            "cell_type": "markdown", 
            "metadata": {}
        }, 
        {
            "execution_count": 18, 
            "cell_type": "code", 
            "metadata": {}, 
            "outputs": [
                {
                    "output_type": "stream", 
                    "name": "stdout", 
                    "text": "Male churn rate:21.60 %\nFemale churn rate:22.73 %\nGender does not have a significant effect on churn\n"
                }, 
                {
                    "output_type": "display_data", 
                    "data": {
                        "image/png": "[encoded data removed]", 
                        "text/plain": "<Figure size 432x288 with 1 Axes>"
                    }, 
                    "metadata": {
                        "needs_background": "light"
                    }
                }
            ], 
            "source": "churn_gender = df_clean.dropDuplicates([\"userId\", \"gender\"]).groupby([\"churn\", \"gender\"]).count().sort(\"churn\").toPandas()\n\nF_sum = churn_gender[churn_gender['gender']=='F']['count'].sum()\nM_sum = churn_gender[churn_gender['gender']=='M']['count'].sum()\n\np_M=pd.DataFrame({'percentage':churn_gender[churn_gender['gender']=='M']['count']/M_sum*100})\np_F=pd.DataFrame({'percentage':churn_gender[churn_gender['gender']=='F']['count']/F_sum*100})\n       \npp = pd.concat([p_M, p_F], axis=0)\nchurn_gender = pd.concat([churn_gender, pp], axis=1)\n\nax = sns.barplot(x='churn', y='percentage', hue='gender', data=churn_gender)\nplt.xlabel('Has customer churned?')\nplt.ylabel('percentage (%)')\nplt.legend(title='Gender', loc='best')\n#plt.title('')\nsns.despine(ax=ax);\n\nprint('Male churn rate:{:.2f} %' .format(churn_gender[(churn_gender.churn==1)& (churn_gender.gender=='M')]['percentage'].tolist()[0]))\nprint('Female churn rate:{:.2f} %'.format(churn_gender[(churn_gender.churn==1)& (churn_gender.gender=='F')]['percentage'].tolist()[0]))\nprint('Gender does not have a significant effect on churn')"
        }, 
        {
            "source": "**2) Level (paid vs free)**", 
            "cell_type": "markdown", 
            "metadata": {}
        }, 
        {
            "execution_count": 19, 
            "cell_type": "code", 
            "metadata": {}, 
            "outputs": [
                {
                    "output_type": "stream", 
                    "name": "stdout", 
                    "text": "free churn rate: 25.00 %\npaid churn rate: 18.22 %\nChurn usually happens when a customer is using a free plan\n"
                }, 
                {
                    "output_type": "display_data", 
                    "data": {
                        "image/png": "[encoded data removed]", 
                        "text/plain": "<Figure size 432x288 with 1 Axes>"
                    }, 
                    "metadata": {
                        "needs_background": "light"
                    }
                }
            ], 
            "source": "pd_level = df_clean.select([\"userId\", \"level\", \"churn\"]).groupby('level', 'churn').count().toPandas()\n\na = pd_level[pd_level['level']=='paid']['count'].tolist()[0]/pd_level[pd_level['level']=='paid']['count'].sum()\nb = pd_level[pd_level['level']=='free']['count'].tolist()[0]/pd_level[pd_level['level']=='free']['count'].sum()\n\npd_level_p = pd.DataFrame({'percentage':[a*100, b*100, 100*(1-a), 100*(1-b)]})\n\npd_level = pd.concat([pd_level, pd_level_p], axis=1, sort=False)\n\nax = sns.barplot(data=pd_level, x='churn', y='percentage', hue='level')#, color=sns.color_palette()[0])\nplt.xlabel('Has customer churned?')\nplt.ylabel('percentage (%)')\nplt.title('')\n\nprint('free churn rate: {:.2f} %'.format(pd_level[(pd_level.churn==1)& (pd_level.level=='free')]['percentage'].tolist()[0]))\nprint('paid churn rate: {:.2f} %'.format(pd_level[(pd_level.churn==1)& (pd_level.level=='paid')]['percentage'].tolist()[0]))\nprint('Churn usually happens when a customer is using a free plan')"
        }, 
        {
            "source": "**3) Page used**", 
            "cell_type": "markdown", 
            "metadata": {}
        }, 
        {
            "execution_count": 20, 
            "cell_type": "code", 
            "metadata": {}, 
            "outputs": [], 
            "source": "churn_count = df_clean.filter(df_clean['churn']==1).count()\nno_churn_count = df_clean.filter(df_clean['churn']==0).count()\n\n# drop next song page because it is not very predictive\n# of much other than that users are using the primary feature\n# of a music streaming app, namely, listening to music\n\ndf_temp1 = df_clean.filter(df_clean['churn']==1).filter(df_clean['page']!=\"NextSong\").groupby([\"page\"]).count()\ndf_temp1 = df_temp1.withColumn(\"churn\", df_temp1[\"count\"]/churn_count*100).sort(\"page\")\n\ndf_temp2 = df_clean.filter(df_clean['churn']==0).filter(df_clean['page']!=\"NextSong\").groupby([\"page\"]).count()\ndf_temp2 = df_temp2.withColumn(\"non_churn\", df_temp2[\"count\"]/no_churn_count*100).sort(\"page\")"
        }, 
        {
            "execution_count": 22, 
            "cell_type": "code", 
            "metadata": {}, 
            "outputs": [
                {
                    "output_type": "display_data", 
                    "data": {
                        "text/plain": "<Figure size 432x288 with 0 Axes>"
                    }, 
                    "metadata": {}
                }, 
                {
                    "output_type": "display_data", 
                    "data": {
                        "image/png": "[encoded data removed]", 
                        "text/plain": "<Figure size 864x432 with 1 Axes>"
                    }, 
                    "metadata": {
                        "needs_background": "light"
                    }
                }
            ], 
            "source": "df_pageuse = df_temp1.join(df_temp2, \"page\", \"outer\").drop(\"count\").fillna(0).toPandas()\ndf_pageuse = df_pageuse.sort_values(by=['churn'], ascending=True)\nplt.figure()\ndf_pageuse.plot.barh(\"page\", figsize=(12,6), fontsize=18)\nplt.xlabel('%')\nplt.ylabel('')\nplt.show()"
        }, 
        {
            "source": "**4) # of session**", 
            "cell_type": "markdown", 
            "metadata": {}
        }, 
        {
            "execution_count": 23, 
            "cell_type": "code", 
            "metadata": {}, 
            "outputs": [
                {
                    "output_type": "stream", 
                    "name": "stdout", 
                    "text": "Churn usually happens when a customer subscribed less sessions\n"
                }, 
                {
                    "output_type": "display_data", 
                    "data": {
                        "image/png": "[encoded data removed]", 
                        "text/plain": "<Figure size 432x288 with 1 Axes>"
                    }, 
                    "metadata": {
                        "needs_background": "light"
                    }
                }
            ], 
            "source": "# churn # of session\ndf_pd = df_clean.groupby(\"churn\", \"userId\", \"sessionId\").count().toPandas()\nsns.boxplot(x='count', y='churn', orient=\"h\", data=df_pd)\nprint('Churn usually happens when a customer subscribed less sessions')"
        }, 
        {
            "source": "**5) churn hourly**", 
            "cell_type": "markdown", 
            "metadata": {}
        }, 
        {
            "execution_count": 24, 
            "cell_type": "code", 
            "metadata": {}, 
            "outputs": [], 
            "source": "# churn hourly\nget_hour = udf(lambda x: datetime.datetime.fromtimestamp(x / 1000.0).hour)\ndf_clean = df_clean.withColumn(\"hour\", get_hour(df_clean.ts))"
        }, 
        {
            "execution_count": 26, 
            "cell_type": "code", 
            "metadata": {}, 
            "outputs": [
                {
                    "execution_count": 26, 
                    "metadata": {}, 
                    "data": {
                        "text/plain": "<matplotlib.axes._subplots.AxesSubplot at 0x7f3310314c50>"
                    }, 
                    "output_type": "execute_result"
                }, 
                {
                    "output_type": "display_data", 
                    "data": {
                        "image/png": "[encoded data removed]", 
                        "text/plain": "<Figure size 432x288 with 1 Axes>"
                    }, 
                    "metadata": {
                        "needs_background": "light"
                    }
                }, 
                {
                    "output_type": "display_data", 
                    "data": {
                        "image/png": "[encoded data removed]", 
                        "text/plain": "<Figure size 432x288 with 1 Axes>"
                    }, 
                    "metadata": {
                        "needs_background": "light"
                    }
                }
            ], 
            "source": "df_pd = df_clean.filter(df_clean.page == \"NextSong\").groupby(\"churn\", 'hour').count().orderBy(df_clean['hour'].cast(\"float\")).toPandas()\ndf_pd['hour'] = pd.to_numeric(df_pd['hour'])\ndf_pd[df_pd.churn==0].plot.bar(x='hour', y='count', color='Blue', label='Not churn')\ndf_pd[df_pd.churn==1].plot.bar(x='hour', y='count', color='Red', label='Churn')"
        }, 
        {
            "source": "**6) total length**", 
            "cell_type": "markdown", 
            "metadata": {}
        }, 
        {
            "execution_count": 27, 
            "cell_type": "code", 
            "metadata": {}, 
            "outputs": [
                {
                    "output_type": "stream", 
                    "name": "stdout", 
                    "text": "Churn usually happens when a customer subscribed less length of song\n"
                }, 
                {
                    "output_type": "display_data", 
                    "data": {
                        "image/png": "[encoded data removed]", 
                        "text/plain": "<Figure size 432x288 with 1 Axes>"
                    }, 
                    "metadata": {
                        "needs_background": "light"
                    }
                }
            ], 
            "source": "# length \npd_length = df_clean.select('userID', 'churn', 'length')\\\n            .groupby(\"userId\", 'churn') \\\n            .agg({\"length\": \"sum\"}) \\\n            .withColumnRenamed(\"sum(length)\", \"total_length\").toPandas()\n#pd_length.head()\n\nsns.boxplot(y='churn', x='total_length', orient=\"h\", data=pd_length)\nprint('Churn usually happens when a customer subscribed less length of song')\n#pd_length.head()"
        }, 
        {
            "source": "**7) day since registration (lifetime)**", 
            "cell_type": "markdown", 
            "metadata": {}
        }, 
        {
            "execution_count": 29, 
            "cell_type": "code", 
            "metadata": {}, 
            "outputs": [], 
            "source": "lt_pd = df_clean \\\n    .select('userId','registration','ts','churn') \\\n    .withColumn('lifetime',(df_clean.ts-df_clean.registration)) \\\n    .groupBy('userId','churn') \\\n    .agg({'lifetime':'max'}) \\\n    .withColumnRenamed('max(lifetime)','lifetime').toPandas() \\\n    #.select('userId', 'churn', (col('lifetime')/1000/3600/24).alias('lifetime')) \\\n    #.toPandas()\n#lt_pd.show(2)"
        }, 
        {
            "execution_count": 30, 
            "cell_type": "code", 
            "metadata": {}, 
            "outputs": [
                {
                    "output_type": "stream", 
                    "name": "stdout", 
                    "text": "Churned customers use the service for a shorter period of time\n"
                }, 
                {
                    "output_type": "display_data", 
                    "data": {
                        "image/png": "[encoded data removed]", 
                        "text/plain": "<Figure size 432x288 with 1 Axes>"
                    }, 
                    "metadata": {
                        "needs_background": "light"
                    }
                }
            ], 
            "source": "ax = sns.boxplot(data=lt_pd, y='churn', x='lifetime', orient='h')\nplt.xlabel('Days since registration when churn')\nplt.ylabel('Has customer churned')\nsns.despine(ax=ax);\nprint('Churned customers use the service for a shorter period of time')"
        }, 
        {
            "source": "**8) total songs**", 
            "cell_type": "markdown", 
            "metadata": {}
        }, 
        {
            "execution_count": 31, 
            "cell_type": "code", 
            "metadata": {}, 
            "outputs": [], 
            "source": "df_song = df_clean \\\n    .select('userID','song','churn') \\\n    .groupBy('userID', 'churn') \\\n    .count() \\\n    .withColumnRenamed('count', 'total_songs') \\\n    .toPandas()"
        }, 
        {
            "execution_count": 33, 
            "cell_type": "code", 
            "metadata": {}, 
            "outputs": [
                {
                    "output_type": "stream", 
                    "name": "stdout", 
                    "text": "Churned customer listens less songs\n"
                }, 
                {
                    "output_type": "display_data", 
                    "data": {
                        "image/png": "[encoded data removed]", 
                        "text/plain": "<Figure size 432x288 with 1 Axes>"
                    }, 
                    "metadata": {
                        "needs_background": "light"
                    }
                }
            ], 
            "source": "ax = sns.boxplot(data=df_song, y='churn', x='total_songs', orient='h')\nplt.xlabel('total songs')\nplt.ylabel('Has customer churned')\nsns.despine(ax=ax);\nprint('Churned customer listens less songs')"
        }, 
        {
            "source": "", 
            "cell_type": "markdown", 
            "metadata": {}
        }, 
        {
            "source": "## Feature Engineering\nOnce you've familiarized yourself with the data, build out the features you find promising to train your model on. To work with the full dataset, you can follow the following steps.\n- Write a script to extract the necessary features from the smaller subset of data\n- Ensure that your script is scalable, using the best practices discussed in Lesson 3\n- Try your script on the full data set, debugging your script if necessary\n\nIf you are working in the classroom workspace, you can just extract features based on the small subset of data contained here. Be sure to transfer over this work to the larger dataset when you work on your Spark cluster.", 
            "cell_type": "markdown", 
            "metadata": {}
        }, 
        {
            "execution_count": 34, 
            "cell_type": "code", 
            "metadata": {}, 
            "outputs": [
                {
                    "output_type": "stream", 
                    "name": "stdout", 
                    "text": "448\n"
                }, 
                {
                    "execution_count": 34, 
                    "metadata": {}, 
                    "data": {
                        "text/plain": "userId      0\nlifetime    0\ndtype: int64"
                    }, 
                    "output_type": "execute_result"
                }
            ], 
            "source": "# Time since registration\nf1 = df_clean \\\n    .select('userId','registration','ts') \\\n    .withColumn('lifetime',(df_clean.ts-df_clean.registration)) \\\n    .groupBy('userId') \\\n    .agg({'lifetime':'max'}) \\\n    .withColumnRenamed('max(lifetime)','lifetime') #\\\n    #.select('userId', (col('lifetime')/1000/3600/24).alias('lifetime'))\nprint(f1.count())\nf1.toPandas().isnull().sum()"
        }, 
        {
            "execution_count": 35, 
            "cell_type": "code", 
            "metadata": {}, 
            "outputs": [
                {
                    "output_type": "stream", 
                    "name": "stdout", 
                    "text": "448\n"
                }, 
                {
                    "execution_count": 35, 
                    "metadata": {}, 
                    "data": {
                        "text/plain": "userID         0\ntotal_songs    0\ndtype: int64"
                    }, 
                    "output_type": "execute_result"
                }
            ], 
            "source": "# Total songs listened\nf2 = df_clean \\\n    .select('userID','song') \\\n    .groupby('userID') \\\n    .count() \\\n    .withColumnRenamed('count', 'total_songs')\nprint(f2.count())\nf2.toPandas().isnull().sum()"
        }, 
        {
            "execution_count": 36, 
            "cell_type": "code", 
            "metadata": {}, 
            "outputs": [
                {
                    "output_type": "stream", 
                    "name": "stdout", 
                    "text": "448\n"
                }, 
                {
                    "execution_count": 36, 
                    "metadata": {}, 
                    "data": {
                        "text/plain": "userId          0\ntotal_sesson    0\ndtype: int64"
                    }, 
                    "output_type": "execute_result"
                }
            ], 
            "source": "#data_w_churn.select('sessionId').toPandas().sessionId.value_counts()\nf3 = df_clean \\\n    .select('userId', 'sessionId')\\\n    .groupby('userId')\\\n    .count()\\\n    .withColumnRenamed('count', 'total_sesson')\nprint(f3.count())\nf3.toPandas().isnull().sum()"
        }, 
        {
            "execution_count": 37, 
            "cell_type": "code", 
            "metadata": {}, 
            "outputs": [
                {
                    "output_type": "stream", 
                    "name": "stdout", 
                    "text": "439\n"
                }, 
                {
                    "execution_count": 37, 
                    "metadata": {}, 
                    "data": {
                        "text/plain": "userID          0\nnum_thumb_up    0\ndtype: int64"
                    }, 
                    "output_type": "execute_result"
                }
            ], 
            "source": "# Number of Thumbs-Up/Down\nf4 = df_clean \\\n    .select('userID','page') \\\n    .where(df_clean.page == 'Thumbs Up') \\\n    .groupby('userID') \\\n    .count() \\\n    .withColumnRenamed('count', 'num_thumb_up') \nprint(f4.count())\nf4.toPandas().isnull().sum()"
        }, 
        {
            "execution_count": 38, 
            "cell_type": "code", 
            "metadata": {}, 
            "outputs": [
                {
                    "output_type": "stream", 
                    "name": "stdout", 
                    "text": "389\n"
                }, 
                {
                    "execution_count": 38, 
                    "metadata": {}, 
                    "data": {
                        "text/plain": "userID            0\nnum_thumb_down    0\ndtype: int64"
                    }, 
                    "output_type": "execute_result"
                }
            ], 
            "source": "f5 = df_clean \\\n    .select('userID','page') \\\n    .where(df_clean.page == 'Thumbs Down') \\\n    .groupby('userID') \\\n    .count() \\\n    .withColumnRenamed('count', 'num_thumb_down')\nprint(f5.count())\nf5.toPandas().isnull().sum()"
        }, 
        {
            "execution_count": 39, 
            "cell_type": "code", 
            "metadata": {}, 
            "outputs": [
                {
                    "output_type": "stream", 
                    "name": "stdout", 
                    "text": "448\n"
                }, 
                {
                    "execution_count": 39, 
                    "metadata": {}, 
                    "data": {
                        "text/plain": "userId    0\ngender    0\ndtype: int64"
                    }, 
                    "output_type": "execute_result"
                }
            ], 
            "source": "flag_gender = udf(lambda x: 1 if x == \"M\" else 0, IntegerType())\n\nf6 = df_clean\\\n    .select(['userId', 'gender'])\\\n    .dropDuplicates() \\\n    .withColumn(\"gender\", flag_gender(\"gender\"))\n    \n   # .select('userId', col('gender').cast('int'))\n\nprint(f6.count())\nf6.toPandas().isnull().sum()"
        }, 
        {
            "execution_count": 40, 
            "cell_type": "code", 
            "metadata": {}, 
            "outputs": [
                {
                    "output_type": "stream", 
                    "name": "stdout", 
                    "text": "428\n"
                }, 
                {
                    "execution_count": 40, 
                    "metadata": {}, 
                    "data": {
                        "text/plain": "userID             0\nadd_to_playlist    0\ndtype: int64"
                    }, 
                    "output_type": "execute_result"
                }
            ], 
            "source": "# Number of songs added to playlist\nf7 = df_clean \\\n    .select('userID','page') \\\n    .where(df_clean['page'] == 'Add to Playlist') \\\n    .groupBy('userID') \\\n    .count() \\\n    .withColumnRenamed('count', 'add_to_playlist')\nprint(f7.count())\nf7.toPandas().isnull().sum()"
        }, 
        {
            "execution_count": 41, 
            "cell_type": "code", 
            "metadata": {}, 
            "outputs": [
                {
                    "output_type": "stream", 
                    "name": "stdout", 
                    "text": "409\n"
                }, 
                {
                    "execution_count": 41, 
                    "metadata": {}, 
                    "data": {
                        "text/plain": "userID        0\nadd_friend    0\ndtype: int64"
                    }, 
                    "output_type": "execute_result"
                }
            ], 
            "source": "# Number of friends added\nf8 = df_clean \\\n    .select('userID','page') \\\n    .where(df_clean['page'] == 'Add Friend') \\\n    .groupBy('userID') \\\n    .count() \\\n    .withColumnRenamed('count', 'add_friend') \nprint(f8.count())\nf8.toPandas().isnull().sum()"
        }, 
        {
            "execution_count": 42, 
            "cell_type": "code", 
            "metadata": {}, 
            "outputs": [
                {
                    "output_type": "stream", 
                    "name": "stdout", 
                    "text": "448\n"
                }, 
                {
                    "execution_count": 42, 
                    "metadata": {}, 
                    "data": {
                        "text/plain": "userID         0\nlisten_time    0\ndtype: int64"
                    }, 
                    "output_type": "execute_result"
                }
            ], 
            "source": "# Total length of listening\nf9 = df_clean \\\n    .select('userID','length') \\\n    .groupby('userID') \\\n    .sum() \\\n    .withColumnRenamed('sum(length)', 'listen_time')\nprint(f9.count())\nf9.toPandas().isnull().sum()"
        }, 
        {
            "execution_count": 43, 
            "cell_type": "code", 
            "metadata": {}, 
            "outputs": [
                {
                    "output_type": "stream", 
                    "name": "stdout", 
                    "text": "448\n"
                }, 
                {
                    "execution_count": 43, 
                    "metadata": {}, 
                    "data": {
                        "text/plain": "userId              0\navg_songs_played    0\ndtype: int64"
                    }, 
                    "output_type": "execute_result"
                }
            ], 
            "source": "# Number of songs listened per session\nf10 = df_clean.where('page == \"NextSong\"') \\\n    .groupby(['userId', 'sessionId']) \\\n    .count() \\\n    .groupby(['userId']) \\\n    .agg({'count':'avg'}) \\\n    .withColumnRenamed('avg(count)', 'avg_songs_played')\nprint(f10.count())\nf10.toPandas().isnull().sum()"
        }, 
        {
            "source": "**churn label**", 
            "cell_type": "markdown", 
            "metadata": {}
        }, 
        {
            "execution_count": 44, 
            "cell_type": "code", 
            "metadata": {}, 
            "outputs": [
                {
                    "output_type": "stream", 
                    "name": "stdout", 
                    "text": "448\n"
                }, 
                {
                    "execution_count": 44, 
                    "metadata": {}, 
                    "data": {
                        "text/plain": "userId    0\nlabel     0\ndtype: int64"
                    }, 
                    "output_type": "execute_result"
                }
            ], 
            "source": "# Churn label\nlabel = df_clean \\\n    .groupby('userId')\\\n    .max('churn')\\\n    .withColumnRenamed(\"max(churn)\", \"label\")\\\n    .dropDuplicates()\nprint(label.count())\nlabel.toPandas().isnull().sum()\n\n#df_original = df_churn.groupby('userId').max(\"churn\").withColumnRenamed(\"max(churn)\", \"target\")"
        }, 
        {
            "execution_count": 75, 
            "cell_type": "code", 
            "metadata": {}, 
            "outputs": [
                {
                    "output_type": "stream", 
                    "name": "stdout", 
                    "text": "+----------+-----------+------------+------------+--------------+------+---------------+----------+------------------+------------------+-----+\n|  lifetime|total_songs|total_sesson|num_thumb_up|num_thumb_down|gender|add_to_playlist|add_friend|       listen_time|  avg_songs_played|label|\n+----------+-----------+------------+------------+--------------+------+---------------+----------+------------------+------------------+-----+\n|1237978000|        137|         137|           4|             3|     0|              1|         3|25870.950739999997|              48.0|    1|\n|4607120000|        395|         395|          15|             5|     1|              6|         2| 78695.82683999998|              62.0|    1|\n|2301546000|        152|         152|           8|             0|     0|              3|         2|28314.150059999996|              22.4|    1|\n|9108471000|         84|          84|           3|             1|     1|              2|         3|15813.771070000003|20.666666666666668|    0|\n|9724648000|       2156|        2156|         102|            15|     0|             45|        26|      456664.04058|           114.125|    1|\n+----------+-----------+------------+------------+--------------+------+---------------+----------+------------------+------------------+-----+\nonly showing top 5 rows\n\n"
                }
            ], 
            "source": "# Construct \ndf_spark = f1.join(f2,'userID','outer') \\\n    .join(f3,'userID','outer') \\\n    .join(f4,'userID','outer') \\\n    .join(f5,'userID','outer') \\\n    .join(f6,'userID','outer') \\\n    .join(f7,'userID','outer') \\\n    .join(f8,'userID','outer') \\\n    .join(f9,'userID','outer') \\\n    .join(f10,'userID','outer') \\\n    .join(label,'userID','outer') \\\n    .drop('userID') \\\n    .fillna(0)\n\ndf_spark.show(5)"
        }, 
        {
            "source": "### Modeling\nSplit the full dataset into train, test, and validation sets. Test out several of the machine learning methods you learned. Evaluate the accuracy of the various models, tuning parameters as necessary. Determine your winning model based on test accuracy and report results on the validation set. Since the churned users are a fairly small subset, I use F1 score as the metric to optimize.", 
            "cell_type": "markdown", 
            "metadata": {}
        }, 
        {
            "execution_count": 76, 
            "cell_type": "code", 
            "metadata": {}, 
            "outputs": [], 
            "source": "feature_columns = df_spark.columns [:-1]"
        }, 
        {
            "execution_count": 77, 
            "cell_type": "code", 
            "metadata": {}, 
            "outputs": [], 
            "source": "train, test = df_spark.randomSplit([0.8, 0.2], seed=43)"
        }, 
        {
            "execution_count": 78, 
            "cell_type": "code", 
            "metadata": {}, 
            "outputs": [], 
            "source": "def build_model(classifier, param):\n    assembler = VectorAssembler(inputCols=feature_columns, outputCol=\"features\")\n    scaler = StandardScaler(inputCol=\"features\", outputCol=\"scaled_features\", withStd = True)\n    pipeline = Pipeline(stages=[assembler, scaler, classifier])\n\n    model = CrossValidator(\n        estimator=pipeline,\n        estimatorParamMaps=param,\n        evaluator=MulticlassClassificationEvaluator(labelCol='label', metricName='f1'),\n        numFolds=5,\n    )\n    return model"
        }, 
        {
            "source": "**Model 1: Logistic regression**", 
            "cell_type": "markdown", 
            "metadata": {}
        }, 
        {
            "execution_count": 79, 
            "cell_type": "code", 
            "metadata": {}, 
            "outputs": [], 
            "source": "# logistic regression\nlr = LogisticRegression(featuresCol=\"scaled_features\", labelCol=\"label\")\n# hyperparameter tuning\nparam_lr = ParamGridBuilder().addGrid(lr.regParam, [0.0,0.1,0.01]).build()\nmodel_lr = build_model(lr, param_lr)"
        }, 
        {
            "execution_count": 80, 
            "cell_type": "code", 
            "metadata": {}, 
            "outputs": [
                {
                    "output_type": "stream", 
                    "name": "stdout", 
                    "text": "CPU times: user 59.7 s, sys: 27.8 s, total: 1min 27s\nWall time: 28min 10s\n"
                }
            ], 
            "source": "%%time\nfit_model_lr = model_lr.fit(train)"
        }, 
        {
            "execution_count": 81, 
            "cell_type": "code", 
            "metadata": {}, 
            "outputs": [], 
            "source": "pred_lr = fit_model_lr.transform(test)"
        }, 
        {
            "execution_count": 82, 
            "cell_type": "code", 
            "metadata": {}, 
            "outputs": [
                {
                    "execution_count": 82, 
                    "metadata": {}, 
                    "data": {
                        "text/plain": "[Row(prediction=0.0), Row(prediction=1.0)]"
                    }, 
                    "output_type": "execute_result"
                }
            ], 
            "source": "pred_lr.select(\"prediction\").dropDuplicates().collect()"
        }, 
        {
            "execution_count": 83, 
            "cell_type": "code", 
            "metadata": {}, 
            "outputs": [
                {
                    "output_type": "stream", 
                    "name": "stdout", 
                    "text": "Logistic Regression Metrics:\nAccuracy: 0.8210526315789474\nF1 score: 0.7800091945840935\n"
                }
            ], 
            "source": "evaluator_lr = MulticlassClassificationEvaluator(predictionCol=\"prediction\", labelCol=\"label\")\n\naccuracy_lr = evaluator_lr.evaluate(pred_lr, {evaluator_lr.metricName: \"accuracy\"})\nf1_score_lr = evaluator_lr.evaluate(pred_lr, {evaluator_lr.metricName: \"f1\"})\n\nprint('Logistic Regression Metrics:')\nprint(\"Accuracy: {}\".format(accuracy_lr))\nprint(\"F1 score: {}\".format(f1_score_lr))"
        }, 
        {
            "source": "**Model 2: Randon forest**", 
            "cell_type": "markdown", 
            "metadata": {}
        }, 
        {
            "execution_count": 86, 
            "cell_type": "code", 
            "metadata": {}, 
            "outputs": [], 
            "source": "# randon forest\nrf = RandomForestClassifier(featuresCol=\"scaled_features\", labelCol=\"label\")\n# hyperparameter tuning\nparam_rf = ParamGridBuilder()\\\n            .addGrid(rf.numTrees, [5,10,20])\\\n            .addGrid(rf.maxDepth, [1,5]).build()\n\nmodel_rf = build_model(rf, param_rf)"
        }, 
        {
            "execution_count": 87, 
            "cell_type": "code", 
            "metadata": {}, 
            "outputs": [
                {
                    "output_type": "stream", 
                    "name": "stdout", 
                    "text": "CPU times: user 41.7 s, sys: 18.7 s, total: 1min\nWall time: 20min 57s\n"
                }
            ], 
            "source": "%%time\nfit_model_rf = model_rf.fit(train)"
        }, 
        {
            "execution_count": 88, 
            "cell_type": "code", 
            "metadata": {}, 
            "outputs": [], 
            "source": "pred_rf = fit_model_rf.transform(test)"
        }, 
        {
            "execution_count": 89, 
            "cell_type": "code", 
            "metadata": {}, 
            "outputs": [
                {
                    "execution_count": 89, 
                    "metadata": {}, 
                    "data": {
                        "text/plain": "[Row(prediction=0.0), Row(prediction=1.0)]"
                    }, 
                    "output_type": "execute_result"
                }
            ], 
            "source": "pred_rf.select(\"prediction\").dropDuplicates().collect()"
        }, 
        {
            "execution_count": 90, 
            "cell_type": "code", 
            "metadata": {}, 
            "outputs": [
                {
                    "output_type": "stream", 
                    "name": "stdout", 
                    "text": "Random Forest Metrics:\nAccuracy: 0.8315789473684211\nF1 score: 0.7983139667350192\n"
                }
            ], 
            "source": "evaluator_rf = MulticlassClassificationEvaluator(predictionCol=\"prediction\", labelCol=\"label\")\n\naccuracy_rf = evaluator_rf.evaluate(pred_rf, {evaluator_rf.metricName: \"accuracy\"})\nf1_score_rf = evaluator_rf.evaluate(pred_rf, {evaluator_rf.metricName: \"f1\"})\n\nprint('Random Forest Metrics:')\nprint(\"Accuracy: {}\".format(accuracy_rf))\nprint(\"F1 score: {}\".format(f1_score_rf))"
        }, 
        {
            "source": "**Model 3: Gradient-Boosted tree classifier**", 
            "cell_type": "markdown", 
            "metadata": {}
        }, 
        {
            "execution_count": 91, 
            "cell_type": "code", 
            "metadata": {}, 
            "outputs": [
                {
                    "ename": "IndentationError", 
                    "evalue": "unexpected indent (<ipython-input-91-ec11c3a5c58b>, line 5)", 
                    "traceback": [
                        "\u001b[0;36m  File \u001b[0;32m\"<ipython-input-91-ec11c3a5c58b>\"\u001b[0;36m, line \u001b[0;32m5\u001b[0m\n\u001b[0;31m    .addGrid(gbt.maxDepth, [1,5])    .build()\u001b[0m\n\u001b[0m    ^\u001b[0m\n\u001b[0;31mIndentationError\u001b[0m\u001b[0;31m:\u001b[0m unexpected indent\n"
                    ], 
                    "output_type": "error"
                }
            ], 
            "source": "# Gradient-boosted tree classifier\ngbt =GBTClassifier(featuresCol=\"scaled_features\", labelCol=\"label\")\n# hyperparameter tuning\nparam_gbt = ParamGridBuilder()\\\n  # .addGrid(gbt.maxIter, [5,10,20])\\\n    .addGrid(gbt.maxDepth, [1,5])\\\n    .build()\nmodel_gbt = build_model(gbt, param_gbt)"
        }, 
        {
            "execution_count": null, 
            "cell_type": "code", 
            "metadata": {}, 
            "outputs": [], 
            "source": "%%time\nfit_model_gbt = model_gbt.fit(train)"
        }, 
        {
            "execution_count": null, 
            "cell_type": "code", 
            "metadata": {}, 
            "outputs": [], 
            "source": "pred_gbt = fit_model_gbt.transform(test)"
        }, 
        {
            "execution_count": null, 
            "cell_type": "code", 
            "metadata": {}, 
            "outputs": [], 
            "source": "pred_gbt.select(\"prediction\").dropDuplicates().collect()"
        }, 
        {
            "execution_count": null, 
            "cell_type": "code", 
            "metadata": {}, 
            "outputs": [], 
            "source": "evaluator_gbt = MulticlassClassificationEvaluator(predictionCol=\"prediction\", labelCol=\"label\")\n\naccuracy_gbt = evaluator_gbt.evaluate(pred_gbt, {evaluator_rf.metricName: \"accuracy\"})\nf1_score_gbt = evaluator_gbt.evaluate(pred_gbt, {evaluator_rf.metricName: \"f1\"})\n\nprint('Gradient-boosted tree Metrics:')\nprint(\"Accuracy: {}\".format(accuracy_gbt))\nprint(\"F1 score: {}\".format(f1_score_gbt))"
        }, 
        {
            "source": "**Feature importance**", 
            "cell_type": "markdown", 
            "metadata": {}
        }, 
        {
            "execution_count": null, 
            "cell_type": "code", 
            "metadata": {}, 
            "outputs": [], 
            "source": "fit_model_rf.bestModel.stages[2]"
        }, 
        {
            "execution_count": null, 
            "cell_type": "code", 
            "metadata": {}, 
            "outputs": [], 
            "source": "# feature importance\n\nrf_feature_importance_df = pd.DataFrame()\nrf_feature_importance_df['feature'] = feature_columns\nrf_feature_importance_df['importance'] = fit_model_rf.bestModel.stages[2].featureImportances.values.tolist()\nrf_feature_importance_df = rf_feature_importance_df.sort_values(by='importance', ascending=False).reset_index(drop=True)\nrf_feature_importance_df"
        }, 
        {
            "execution_count": null, 
            "cell_type": "code", 
            "metadata": {}, 
            "outputs": [], 
            "source": "plt.figure(figsize=(8,4))\nsns.barplot(x='importance', y='feature', data=rf_feature_importance_df, color=\"b\")\nplt.title('Feature Importance')\nplt.ylabel('');"
        }, 
        {
            "source": "### Final Steps\nClean up your code, adding comments and renaming variables to make the code easier to read and maintain. Refer to the Spark Project Overview page and Data Scientist Capstone Project Rubric to make sure you are including all components of the capstone project and meet all expectations. Remember, this includes thorough documentation in a README file in a Github repository, as well as a web app or blog post.", 
            "cell_type": "markdown", 
            "metadata": {}
        }, 
        {
            "execution_count": null, 
            "cell_type": "code", 
            "metadata": {}, 
            "outputs": [], 
            "source": ""
        }
    ], 
    "metadata": {
        "kernelspec": {
            "display_name": "Python 3.6 with Spark", 
            "name": "python36", 
            "language": "python3"
        }, 
        "language_info": {
            "mimetype": "text/x-python", 
            "nbconvert_exporter": "python", 
            "version": "3.6.8", 
            "name": "python", 
            "file_extension": ".py", 
            "pygments_lexer": "ipython3", 
            "codemirror_mode": {
                "version": 3, 
                "name": "ipython"
            }
        }
    }, 
    "nbformat": 4
}